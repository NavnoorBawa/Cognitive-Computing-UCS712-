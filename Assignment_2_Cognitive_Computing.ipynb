{
  "nbformat": 4,
  "nbformat_minor": 0,
  "metadata": {
    "colab": {
      "provenance": []
    },
    "kernelspec": {
      "name": "python3",
      "display_name": "Python 3"
    },
    "language_info": {
      "name": "python"
    }
  },
  "cells": [
    {
      "cell_type": "markdown",
      "source": [
        "***Q1***"
      ],
      "metadata": {
        "id": "G1ZLs3UwVb5n"
      }
    },
    {
      "cell_type": "code",
      "execution_count": 2,
      "metadata": {
        "colab": {
          "base_uri": "https://localhost:8080/"
        },
        "id": "pGjWXkovUojK",
        "outputId": "5bd044e6-f280-4d96-ac3a-60062b3d7a74"
      },
      "outputs": [
        {
          "output_type": "stream",
          "name": "stdout",
          "text": [
            "[10, 20, 30, 40, 50, 60, 70, 80, 200, 300]\n",
            "[20, 40, 50, 60, 70, 80, 200, 300]\n",
            "[20, 40, 50, 60, 70, 80, 200, 300]\n",
            "[300, 200, 80, 70, 60, 50, 40, 20]\n"
          ]
        }
      ],
      "source": [
        "L=[10, 20, 30, 40, 50, 60, 70, 80]\n",
        "L.extend([200,300])\n",
        "print(L)\n",
        "L.remove(10)\n",
        "L.remove(30)\n",
        "print(L)\n",
        "L.sort()\n",
        "print(L)\n",
        "L.sort(reverse=True)\n",
        "print(L)"
      ]
    },
    {
      "cell_type": "markdown",
      "source": [
        "***Q2***"
      ],
      "metadata": {
        "id": "hzlXicGGV9RS"
      }
    },
    {
      "cell_type": "code",
      "source": [
        "scores=(45, 89.5, 76, 45.4, 89, 92, 58, 45)\n",
        "highest=max(scores)\n",
        "highest_index=scores.index(max(scores))\n",
        "print(f\"Highest score: {highest},Index:{highest_index}\")\n",
        "lowest=min(scores)\n",
        "lowest_index=scores.count(lowest)\n",
        "print(f\"Lowest score: {lowest},Index:{lowest_index}\")\n",
        "reversed_list=list(scores[::-1])\n",
        "print(\"reversed list:\",reversed_list)\n",
        "score_to_find=45.4\n",
        "if score_to_find in scores:\n",
        "  print(f\"Score {score_to_find} found at index{scores.index(score_to_find)}\")\n",
        "else:\n",
        "  print(f\"Score{score_to_find}not present\")"
      ],
      "metadata": {
        "colab": {
          "base_uri": "https://localhost:8080/"
        },
        "id": "XtuuZbSpV_E5",
        "outputId": "5d9a0774-4682-44a6-da10-948edafc952d"
      },
      "execution_count": 3,
      "outputs": [
        {
          "output_type": "stream",
          "name": "stdout",
          "text": [
            "Highest score: 92,Index:5\n",
            "Lowest score: 45,Index:2\n",
            "reversed list: [45, 58, 92, 89, 45.4, 76, 89.5, 45]\n",
            "Score 45.4 found at index3\n"
          ]
        }
      ]
    },
    {
      "cell_type": "markdown",
      "source": [
        "***Q3***"
      ],
      "metadata": {
        "id": "FOD_ydkGfdGI"
      }
    },
    {
      "cell_type": "code",
      "source": [
        "import random\n",
        "numbers=[random.randint(100,900)for _ in range(100)]\n",
        "odd=[n for n in numbers if n%2==1]\n",
        "print(\"odd nubmers count:\",len(odd))\n",
        "even=[n for n in numbers if n%2==0]\n",
        "print(\"even numbers count:\",len(even))\n",
        "def is_prime(n):\n",
        "  if n<2:\n",
        "    return False\n",
        "  for i in range(2,n):\n",
        "    if n%i==0:\n",
        "      return False\n",
        "    return True\n",
        "prime_numbers=[n for n in numbers if is_prime(n)]\n",
        "print(\"prime numbers count:\",len(prime_numbers))"
      ],
      "metadata": {
        "colab": {
          "base_uri": "https://localhost:8080/"
        },
        "id": "9aQnmT7xfeoG",
        "outputId": "9f0184a9-81ed-4772-a2cc-e95ac1fba22c"
      },
      "execution_count": 7,
      "outputs": [
        {
          "output_type": "stream",
          "name": "stdout",
          "text": [
            "odd nubmers count: 51\n",
            "even numbers count: 49\n",
            "prime numbers count: 51\n"
          ]
        }
      ]
    },
    {
      "cell_type": "markdown",
      "source": [
        "***Q4***"
      ],
      "metadata": {
        "id": "FW9JomUH775C"
      }
    },
    {
      "cell_type": "code",
      "source": [
        "A={34, 56, 78, 90}\n",
        "B={78, 45, 90, 23}\n",
        "\n",
        "union_set=A.union(B)\n",
        "print(\"Union:\",union_set)\n",
        "intersection_set=A.intersection(B)\n",
        "print(\"Intersection:\",intersection_set)\n",
        "symmetric_diff=A.symmetric_difference(B)\n",
        "print(\"Symmetric difference:\",symmetric_diff)\n",
        "is_subset=A.issubset(B)\n",
        "is_superset=A.issuperset(B)\n",
        "print(\"A is subset of B:\",is_subset)\n",
        "print(\"B is superser of A:\",is_superset)\n",
        "x=int(input(\"Score to remove from set A: \"))\n",
        "if x in A:\n",
        "  A.remove(x)\n",
        "  print(f\"{x} removed from set A\")\n",
        "\n",
        "else:\n",
        "  print(f\"{x} not present in set A\")\n",
        "print(\"Updated set A:\",A)"
      ],
      "metadata": {
        "colab": {
          "base_uri": "https://localhost:8080/"
        },
        "id": "luoUv-bu7_38",
        "outputId": "e092409e-f502-48df-b731-02ed94900dc4"
      },
      "execution_count": 18,
      "outputs": [
        {
          "output_type": "stream",
          "name": "stdout",
          "text": [
            "Union: {34, 45, 78, 23, 56, 90}\n",
            "Intersection: {90, 78}\n",
            "Symmetric difference: {34, 45, 23, 56}\n",
            "A is subset of B: False\n",
            "B is superser of A: False\n",
            "Score ot remove from set A: 56\n",
            "56 removed from set A\n",
            "Updated set A: {34, 90, 78}\n"
          ]
        }
      ]
    },
    {
      "cell_type": "markdown",
      "source": [
        "***Q5***"
      ],
      "metadata": {
        "id": "34kPgWKcG3ft"
      }
    },
    {
      "cell_type": "code",
      "source": [
        "sample_dict = {\n",
        "\"name\": \"Kelly\",\n",
        "\"age\": 25,\n",
        "\"salary\": 8000,\n",
        "\"city\": \"New york\"\n",
        "}\n",
        "sample_dict[\"location\"]= sample_dict.pop(\"city\")\n",
        "print(\"Updated dictionary:\",sample_dict)"
      ],
      "metadata": {
        "colab": {
          "base_uri": "https://localhost:8080/"
        },
        "id": "JGXLl56CDbFY",
        "outputId": "48e60ebb-26cc-4038-b562-38b49a0763b8"
      },
      "execution_count": 21,
      "outputs": [
        {
          "output_type": "stream",
          "name": "stdout",
          "text": [
            "Updated dictionary: {'name': 'Kelly', 'age': 25, 'salary': 8000, 'location': 'New york'}\n"
          ]
        }
      ]
    }
  ]
}