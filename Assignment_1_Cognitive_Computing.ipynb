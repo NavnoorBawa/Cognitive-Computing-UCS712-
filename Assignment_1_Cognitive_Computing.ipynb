{
  "nbformat": 4,
  "nbformat_minor": 0,
  "metadata": {
    "colab": {
      "provenance": [],
      "toc_visible": true
    },
    "kernelspec": {
      "name": "python3",
      "display_name": "Python 3"
    },
    "language_info": {
      "name": "python"
    }
  },
  "cells": [
    {
      "cell_type": "markdown",
      "source": [
        "***Q1***"
      ],
      "metadata": {
        "id": "Z0esLBzwPQvT"
      }
    },
    {
      "cell_type": "code",
      "execution_count": null,
      "metadata": {
        "colab": {
          "base_uri": "https://localhost:8080/"
        },
        "id": "Dd19fILJO4sN",
        "outputId": "7129f3e3-b93d-460d-fb5c-831995e39421"
      },
      "outputs": [
        {
          "output_type": "stream",
          "name": "stdout",
          "text": [
            "Power is a lot like real estate. It's all about location, location, location. The closer you are to the source, the higher your property value\n"
          ]
        }
      ],
      "source": [
        "print(\"Power is a lot like real estate. It's all about location, location, location. The closer you are to the source, the higher your property value\")"
      ]
    },
    {
      "cell_type": "markdown",
      "source": [
        "***Q2.1***"
      ],
      "metadata": {
        "id": "ePHuds2jPYjj"
      }
    },
    {
      "cell_type": "code",
      "source": [
        "num1=10\n",
        "num2=20\n",
        "sum_r=num1+num2\n",
        "print(f\"{sum_r}\")"
      ],
      "metadata": {
        "colab": {
          "base_uri": "https://localhost:8080/"
        },
        "id": "_INJRy5BPXyW",
        "outputId": "bb24e772-fcce-48fe-a8e0-a37470c55e83"
      },
      "execution_count": null,
      "outputs": [
        {
          "output_type": "stream",
          "name": "stdout",
          "text": [
            "30\n"
          ]
        }
      ]
    },
    {
      "cell_type": "markdown",
      "source": [
        "***Q2.2***"
      ],
      "metadata": {
        "id": "iJ_Aiz8HQvJD"
      }
    },
    {
      "cell_type": "code",
      "source": [
        "str1=\"Navnoor\"\n",
        "str2=\"Bawa\"\n",
        "result=str1+\" \"+str2\n",
        "print(f\"{result}\")"
      ],
      "metadata": {
        "colab": {
          "base_uri": "https://localhost:8080/"
        },
        "id": "4v8Xw5oGP6C-",
        "outputId": "5f62246d-191b-470c-be23-cf353e8ca50d"
      },
      "execution_count": null,
      "outputs": [
        {
          "output_type": "stream",
          "name": "stdout",
          "text": [
            "Navnoor Bawa\n"
          ]
        }
      ]
    },
    {
      "cell_type": "markdown",
      "source": [
        "***Q2.3***"
      ],
      "metadata": {
        "id": "O_yWwXh6Rdue"
      }
    },
    {
      "cell_type": "code",
      "source": [
        "name=\"Python\"\n",
        "version=3.9\n",
        "result=f\"{name} version {version}\"\n",
        "print(result)"
      ],
      "metadata": {
        "colab": {
          "base_uri": "https://localhost:8080/"
        },
        "id": "3zUWQOQFQ8Iw",
        "outputId": "b5e85741-8167-4a10-c93e-5a34779c4464"
      },
      "execution_count": null,
      "outputs": [
        {
          "output_type": "stream",
          "name": "stdout",
          "text": [
            "Python version 3.9\n"
          ]
        }
      ]
    },
    {
      "cell_type": "markdown",
      "source": [
        "***Q3.1***"
      ],
      "metadata": {
        "id": "l7BrAPoUSqWN"
      }
    },
    {
      "cell_type": "code",
      "source": [
        "def check_number(num):\n",
        "  if num>0:\n",
        "    print(f\"{num} is positive\")\n",
        "  elif num<0:\n",
        "    print(f\"{num} is negative\")\n",
        "  else:\n",
        "    print(f\"{num} is zero\")\n",
        "\n",
        "check_number(-5)"
      ],
      "metadata": {
        "colab": {
          "base_uri": "https://localhost:8080/"
        },
        "id": "4YgU1OI6R_Q9",
        "outputId": "bce08671-6509-490f-edf7-938fbb0272d5"
      },
      "execution_count": null,
      "outputs": [
        {
          "output_type": "stream",
          "name": "stdout",
          "text": [
            "-5 is negative\n"
          ]
        }
      ]
    },
    {
      "cell_type": "markdown",
      "source": [
        "***Q3.2***"
      ],
      "metadata": {
        "id": "WIocPBY7Sska"
      }
    },
    {
      "cell_type": "code",
      "source": [
        "def check_odd_even(num):\n",
        "  if num%2==0:\n",
        "    print(f\"{num} is even \")\n",
        "  else:\n",
        "    print(f\"{num} is odd\")\n",
        "check_odd_even(7)"
      ],
      "metadata": {
        "colab": {
          "base_uri": "https://localhost:8080/"
        },
        "id": "QXf_pFMaSOOG",
        "outputId": "d2c51b6c-8139-418a-d6ab-3a98a81f4df0"
      },
      "execution_count": null,
      "outputs": [
        {
          "output_type": "stream",
          "name": "stdout",
          "text": [
            "7 is odd\n"
          ]
        }
      ]
    },
    {
      "cell_type": "markdown",
      "source": [
        "***Q4.1***"
      ],
      "metadata": {
        "id": "SNUOcuIxTUSe"
      }
    },
    {
      "cell_type": "code",
      "source": [
        "for i in range(1, 11):\n",
        "    print(i, end=\" \")"
      ],
      "metadata": {
        "colab": {
          "base_uri": "https://localhost:8080/"
        },
        "id": "koWb7Kx9TMGv",
        "outputId": "e56eb3e4-9799-4cc9-cf0a-db432229ed12"
      },
      "execution_count": null,
      "outputs": [
        {
          "output_type": "stream",
          "name": "stdout",
          "text": [
            "1 2 3 4 5 6 7 8 9 10 "
          ]
        }
      ]
    },
    {
      "cell_type": "markdown",
      "source": [
        "***Q4.2***"
      ],
      "metadata": {
        "id": "GznnahLgUQ9Z"
      }
    },
    {
      "cell_type": "code",
      "source": [
        "count =1\n",
        "while count<=10:\n",
        "  print(count,end=\" \")\n",
        "  count+=1"
      ],
      "metadata": {
        "colab": {
          "base_uri": "https://localhost:8080/"
        },
        "id": "N6514qfATncy",
        "outputId": "5b377fe4-7117-4c56-b4a7-bd659fe2e644"
      },
      "execution_count": null,
      "outputs": [
        {
          "output_type": "stream",
          "name": "stdout",
          "text": [
            "1 2 3 4 5 6 7 8 9 10 "
          ]
        }
      ]
    },
    {
      "cell_type": "markdown",
      "source": [
        "***Q4.3***"
      ],
      "metadata": {
        "id": "3ilfRtEEU5Ps"
      }
    },
    {
      "cell_type": "code",
      "source": [
        "del sum\n",
        "sum_result=sum(range(1,101))\n",
        "sum_result"
      ],
      "metadata": {
        "colab": {
          "base_uri": "https://localhost:8080/"
        },
        "id": "PlMNZp9jUxbS",
        "outputId": "d99b498c-1e29-4880-9f52-2340dbbae659"
      },
      "execution_count": null,
      "outputs": [
        {
          "output_type": "execute_result",
          "data": {
            "text/plain": [
              "5050"
            ]
          },
          "metadata": {},
          "execution_count": 25
        }
      ]
    },
    {
      "cell_type": "markdown",
      "source": [
        "***Q5.1***"
      ],
      "metadata": {
        "id": "TDfHLUb5WW38"
      }
    },
    {
      "cell_type": "code",
      "source": [
        "numbers=[5,8,9,3,4]\n",
        "print(f\"Largest number:{max(numbers)}\")"
      ],
      "metadata": {
        "colab": {
          "base_uri": "https://localhost:8080/"
        },
        "id": "aSmA9OFCVH9d",
        "outputId": "b01f8b06-36b4-4ef8-eb34-7ae83f16fcfb"
      },
      "execution_count": null,
      "outputs": [
        {
          "output_type": "stream",
          "name": "stdout",
          "text": [
            "Largest number:9\n"
          ]
        }
      ]
    },
    {
      "cell_type": "markdown",
      "source": [
        "***Q5.2***"
      ],
      "metadata": {
        "id": "yv6GkcLiXWv5"
      }
    },
    {
      "cell_type": "code",
      "source": [
        "President={\"name\":\"Trump\",\"age\":78,\"country\":\"USA\"}\n",
        "print(f\"Age:{President['age']}\")"
      ],
      "metadata": {
        "colab": {
          "base_uri": "https://localhost:8080/"
        },
        "id": "0UHH-PvJWSi6",
        "outputId": "56c92268-edbc-4ea6-c5ed-fda2dd4806aa"
      },
      "execution_count": null,
      "outputs": [
        {
          "output_type": "stream",
          "name": "stdout",
          "text": [
            "Age:78\n"
          ]
        }
      ]
    },
    {
      "cell_type": "markdown",
      "source": [
        "***Q5.3***"
      ],
      "metadata": {
        "id": "ug2NxoEUoeR4"
      }
    },
    {
      "cell_type": "code",
      "source": [
        "del numbers\n",
        "numbers=[5,8,3,4,9]\n",
        "sort_asc=sorted(numbers)\n",
        "sort_desc=sorted(numbers,reverse= True)\n",
        "print(f\"Ascending: {sort_asc}\")\n",
        "print(f\"Descending: {sort_desc}\")"
      ],
      "metadata": {
        "colab": {
          "base_uri": "https://localhost:8080/"
        },
        "id": "JjnxCReeXSw6",
        "outputId": "4ba4f3d2-0498-4bb6-c328-29b40cba3fa0"
      },
      "execution_count": null,
      "outputs": [
        {
          "output_type": "stream",
          "name": "stdout",
          "text": [
            "Ascending: [3, 4, 5, 8, 9]\n",
            "Descending: [9, 8, 5, 4, 3]\n"
          ]
        }
      ]
    },
    {
      "cell_type": "markdown",
      "source": [
        "***Q5.4***"
      ],
      "metadata": {
        "id": "YAII1tvCogWa"
      }
    },
    {
      "cell_type": "code",
      "source": [
        "dict1={\"a\":1,\"b\":2}\n",
        "dict2={\"c\":3,\"d\":4}\n",
        "mereg_dict={**dict1,**dict2}\n",
        "print(f\"merged dict:{mereg_dict}\")"
      ],
      "metadata": {
        "colab": {
          "base_uri": "https://localhost:8080/"
        },
        "id": "HjvmFV0MhDgC",
        "outputId": "780c6a24-610d-4548-a0d9-6956c5b3d1bf"
      },
      "execution_count": null,
      "outputs": [
        {
          "output_type": "stream",
          "name": "stdout",
          "text": [
            "merged dict:{'a': 1, 'b': 2, 'c': 3, 'd': 4}\n"
          ]
        }
      ]
    },
    {
      "cell_type": "markdown",
      "source": [
        "***Q6.1***"
      ],
      "metadata": {
        "id": "1krNtImNotXf"
      }
    },
    {
      "cell_type": "code",
      "source": [
        "def count_vowels(string):\n",
        "  vowels=\"aeiouAEIOU\"\n",
        "  count=0\n",
        "  for char in string:\n",
        "    if char in vowels:\n",
        "      count += 1\n",
        "  return count\n",
        "\n",
        "text=\"Navnoor\"\n",
        "print(f\"Number of vowels:{count_vowels(text)}\")\n"
      ],
      "metadata": {
        "colab": {
          "base_uri": "https://localhost:8080/"
        },
        "id": "jNO_KWkVovKT",
        "outputId": "8d1d1aed-8922-470f-dcb0-46fd15269f65"
      },
      "execution_count": null,
      "outputs": [
        {
          "output_type": "stream",
          "name": "stdout",
          "text": [
            "Number of vowels:3\n"
          ]
        }
      ]
    },
    {
      "cell_type": "markdown",
      "source": [
        "***Q6.2***"
      ],
      "metadata": {
        "id": "aNBwQ84gq94l"
      }
    },
    {
      "cell_type": "code",
      "source": [
        "def reverse_string(string):\n",
        "  return string[::-1]\n",
        "text=\"Navnoor\"\n",
        "print(f\"Reversed string:{reverse_string(text)}\")"
      ],
      "metadata": {
        "colab": {
          "base_uri": "https://localhost:8080/"
        },
        "id": "TAwHzLt5pgvQ",
        "outputId": "fc777b67-7b2f-416e-b80b-4177fbb9cca2"
      },
      "execution_count": null,
      "outputs": [
        {
          "output_type": "stream",
          "name": "stdout",
          "text": [
            "Reversed string:roonvaN\n"
          ]
        }
      ]
    },
    {
      "cell_type": "markdown",
      "source": [
        "***Q6.3***"
      ],
      "metadata": {
        "id": "dfychJf6rAbT"
      }
    },
    {
      "cell_type": "code",
      "source": [
        "def is_palindrome(string):\n",
        "  clean_str=string.lower().replace(\" \",\"\")\n",
        "  return clean_str==clean_str[::-1]\n",
        "text1=\"Navnoor\"\n",
        "print(f\"palindrome:{is_palindrome(text1)}\")\n",
        "text2=\"nurses run\"\n",
        "print(f\"palindrome:{is_palindrome(text2)}\")"
      ],
      "metadata": {
        "colab": {
          "base_uri": "https://localhost:8080/"
        },
        "id": "q2mZqd8lqqjt",
        "outputId": "62f04240-d13e-4c81-aa63-ab37635456be"
      },
      "execution_count": null,
      "outputs": [
        {
          "output_type": "stream",
          "name": "stdout",
          "text": [
            "palindrome:False\n",
            "palindrome:True\n"
          ]
        }
      ]
    },
    {
      "cell_type": "markdown",
      "source": [
        "***Q7.1***"
      ],
      "metadata": {
        "id": "tga3xakpul5v"
      }
    },
    {
      "cell_type": "code",
      "source": [
        "def write_and_read():\n",
        "  file=open(\"test.txt\",\"w\")\n",
        "  file.write(\"Hello World\\nThis is a test file.\")\n",
        "  file.close()\n",
        "\n",
        "  file=open(\"test.txt\",\"r\")\n",
        "  content=file.read()\n",
        "  print(content)\n",
        "  file.close()\n",
        "\n",
        "write_and_read()"
      ],
      "metadata": {
        "colab": {
          "base_uri": "https://localhost:8080/"
        },
        "id": "Tlgagum4ulWU",
        "outputId": "7993059a-a7d6-4d44-9411-a9d5a758da47"
      },
      "execution_count": null,
      "outputs": [
        {
          "output_type": "stream",
          "name": "stdout",
          "text": [
            "Hello World\n",
            "This is a test file.\n"
          ]
        }
      ]
    },
    {
      "cell_type": "markdown",
      "source": [
        "***Q7.2***"
      ],
      "metadata": {
        "id": "F3Yx5AK-xyol"
      }
    },
    {
      "cell_type": "code",
      "source": [
        "def append_to_file():\n",
        "  file=open(\"test.txt\",\"a\")\n",
        "  file.write(\"\\nNew line added\")\n",
        "  file.close()\n",
        "\n",
        "  file = open(\"test.txt\",\"r\")\n",
        "  print(file.read())\n",
        "  file.close()\n",
        "\n",
        "append_to_file()"
      ],
      "metadata": {
        "colab": {
          "base_uri": "https://localhost:8080/"
        },
        "id": "nW0r7D5Mxw3T",
        "outputId": "27a7e1c3-4a10-470b-de46-72260086ca07"
      },
      "execution_count": null,
      "outputs": [
        {
          "output_type": "stream",
          "name": "stdout",
          "text": [
            "Hello World\n",
            "This is a test file.\n",
            "New line added\n"
          ]
        }
      ]
    },
    {
      "cell_type": "markdown",
      "source": [
        "***Q7.3***"
      ],
      "metadata": {
        "id": "w-QIGG5eyhz3"
      }
    },
    {
      "cell_type": "code",
      "source": [
        "def count_lines():\n",
        "  file=open(\"test.txt\",\"r\")\n",
        "  lines =file.readlines()\n",
        "  file.close()\n",
        "  return len(lines)\n",
        "\n",
        "print(f\"Number of lines: {count_lines()}\")"
      ],
      "metadata": {
        "colab": {
          "base_uri": "https://localhost:8080/"
        },
        "id": "fbo4HABZyheh",
        "outputId": "62215473-2922-4b78-c8b1-6125de588873"
      },
      "execution_count": null,
      "outputs": [
        {
          "output_type": "stream",
          "name": "stdout",
          "text": [
            "Number of lines: 3\n"
          ]
        }
      ]
    },
    {
      "cell_type": "markdown",
      "source": [
        "***Q8.1***"
      ],
      "metadata": {
        "id": "D5oiz2hC4SUf"
      }
    },
    {
      "cell_type": "code",
      "source": [
        "def safe_divsion(a,b):\n",
        "  try:\n",
        "      result=a/b\n",
        "      return result;\n",
        "  except ZeroDivisionError:\n",
        "      return \"Error: Division by zero\"\n",
        "\n",
        "print(safe_divsion(10,0))\n",
        "print(safe_divsion(10,1))"
      ],
      "metadata": {
        "colab": {
          "base_uri": "https://localhost:8080/"
        },
        "id": "AkOF4rXJ4YHC",
        "outputId": "7f1e89b5-686e-4a5e-ebfd-812af717cf5b"
      },
      "execution_count": null,
      "outputs": [
        {
          "output_type": "stream",
          "name": "stdout",
          "text": [
            "Error: Division by zero\n",
            "10.0\n"
          ]
        }
      ]
    },
    {
      "cell_type": "markdown",
      "source": [
        "***Q8.2***"
      ],
      "metadata": {
        "id": "8PBV9kHTGXCv"
      }
    },
    {
      "cell_type": "code",
      "source": [
        "def get_number():\n",
        "  try:\n",
        "    num=int(input(\"Enter a number:\"))\n",
        "    return num\n",
        "  except ValueError:\n",
        "    return \"invalid input.please enter a number\"\n",
        "\n",
        "print(get_number())"
      ],
      "metadata": {
        "colab": {
          "base_uri": "https://localhost:8080/"
        },
        "id": "m_V-KiRs4jZm",
        "outputId": "fbc84a89-5c01-4877-8329-7d9ffcd1c5ee"
      },
      "execution_count": null,
      "outputs": [
        {
          "output_type": "stream",
          "name": "stdout",
          "text": [
            "Enter a number:abc\n",
            "invalid input.please enter a number\n"
          ]
        }
      ]
    },
    {
      "cell_type": "markdown",
      "source": [
        "***Q8.3***"
      ],
      "metadata": {
        "id": "X58YzCEFhKNk"
      }
    },
    {
      "cell_type": "code",
      "source": [
        "def file_handling_with_finally():\n",
        "  file=None\n",
        "  try:\n",
        "    file=open(\"nav.txt\",\"r\")\n",
        "    content=file.read()\n",
        "    return content\n",
        "  except FileNotFoundError:\n",
        "    return \"File not found\"\n",
        "  finally:\n",
        "    if file:\n",
        "      file.close()\n",
        "      print(\"file closed successfully\")\n",
        "\n",
        "file_handling_with_finally()\n"
      ],
      "metadata": {
        "colab": {
          "base_uri": "https://localhost:8080/"
        },
        "id": "oamF1uhLhMrY",
        "outputId": "d891c3f0-d17e-4807-800d-e20a92324d49"
      },
      "execution_count": null,
      "outputs": [
        {
          "output_type": "stream",
          "name": "stdout",
          "text": [
            "File not found\n"
          ]
        }
      ]
    },
    {
      "cell_type": "markdown",
      "source": [
        "***Q9.1***"
      ],
      "metadata": {
        "id": "IPUOMv9mjGGf"
      }
    },
    {
      "cell_type": "code",
      "source": [
        "import random\n",
        "import string\n",
        "\n",
        "def generate_random_numbers():\n",
        "  return [random.randint(1,100) for _ in range(5)]\n",
        "\n",
        "generate_random_numbers()"
      ],
      "metadata": {
        "colab": {
          "base_uri": "https://localhost:8080/"
        },
        "id": "fzsbB43EjFyc",
        "outputId": "aff0140a-c953-47ec-a2c2-5cf539dd33ef"
      },
      "execution_count": null,
      "outputs": [
        {
          "output_type": "execute_result",
          "data": {
            "text/plain": [
              "[74, 65, 62, 13, 25]"
            ]
          },
          "metadata": {},
          "execution_count": 6
        }
      ]
    },
    {
      "cell_type": "markdown",
      "source": [
        "***Q9.2***"
      ],
      "metadata": {
        "id": "iIUOHrcxlSJN"
      }
    },
    {
      "cell_type": "code",
      "source": [
        "def is_prime(n):\n",
        "  if n<2:\n",
        "    return False\n",
        "  for i in range(2,n):\n",
        "    if n%i==0:\n",
        "      return False\n",
        "  return True\n",
        "\n",
        "def random_prime_check():\n",
        "  num=random.randint(1,100)\n",
        "  if is_prime(num):\n",
        "    return f\"Number {num} is prime \"\n",
        "  else:\n",
        "    return f\"Number {num} is not prime\"\n",
        "\n",
        "random_prime_check()"
      ],
      "metadata": {
        "colab": {
          "base_uri": "https://localhost:8080/",
          "height": 35
        },
        "id": "yN4G4SaAlUI0",
        "outputId": "74fcbd16-98ed-4810-868a-efca1257eeea"
      },
      "execution_count": null,
      "outputs": [
        {
          "output_type": "execute_result",
          "data": {
            "text/plain": [
              "'Number 30 is not prime'"
            ],
            "application/vnd.google.colaboratory.intrinsic+json": {
              "type": "string"
            }
          },
          "metadata": {},
          "execution_count": 15
        }
      ]
    },
    {
      "cell_type": "markdown",
      "source": [
        "***Q9.3***"
      ],
      "metadata": {
        "id": "fNn6IjJTxWmG"
      }
    },
    {
      "cell_type": "code",
      "source": [
        "def roll_die():\n",
        "  return random.randint(1,6)\n",
        "roll_die()"
      ],
      "metadata": {
        "colab": {
          "base_uri": "https://localhost:8080/"
        },
        "id": "tJkyOfCSxYOR",
        "outputId": "38896b45-6aed-43e6-8928-e6557015f565"
      },
      "execution_count": null,
      "outputs": [
        {
          "output_type": "execute_result",
          "data": {
            "text/plain": [
              "2"
            ]
          },
          "metadata": {},
          "execution_count": 17
        }
      ]
    },
    {
      "cell_type": "markdown",
      "source": [
        "***Q9.4***"
      ],
      "metadata": {
        "id": "4VP3LKJcxzY5"
      }
    },
    {
      "cell_type": "code",
      "source": [
        "def shuffle_list(list):\n",
        "  random.shuffle(list)\n",
        "  return list\n",
        "\n",
        "list=[1,2,3,4,5]\n",
        "shuffled_list=shuffle_list(list)\n",
        "shuffled_list"
      ],
      "metadata": {
        "colab": {
          "base_uri": "https://localhost:8080/"
        },
        "id": "Yayy2SW7xjjP",
        "outputId": "1ddcea8c-8ad1-496d-986c-9121cf945467"
      },
      "execution_count": null,
      "outputs": [
        {
          "output_type": "execute_result",
          "data": {
            "text/plain": [
              "[2, 4, 3, 1, 5]"
            ]
          },
          "metadata": {},
          "execution_count": 19
        }
      ]
    },
    {
      "cell_type": "markdown",
      "source": [
        "***Q9.5***"
      ],
      "metadata": {
        "id": "JD2xfI5-yNo9"
      }
    },
    {
      "cell_type": "code",
      "source": [
        "def random_list(list):\n",
        "  return random.choice(list)\n",
        "list2=[5,7,8,9]\n",
        "random_list(list2)"
      ],
      "metadata": {
        "colab": {
          "base_uri": "https://localhost:8080/"
        },
        "id": "ZP9D4Lfjx5WQ",
        "outputId": "12b60307-aeca-42af-8d7d-73191bfe2078"
      },
      "execution_count": null,
      "outputs": [
        {
          "output_type": "execute_result",
          "data": {
            "text/plain": [
              "7"
            ]
          },
          "metadata": {},
          "execution_count": 21
        }
      ]
    },
    {
      "cell_type": "markdown",
      "source": [
        "***Q9.6***"
      ],
      "metadata": {
        "id": "PADE00ja3_1V"
      }
    },
    {
      "cell_type": "code",
      "source": [
        "def generate_password(length=7):\n",
        "  characters=string.ascii_letters+string.digits+string.punctuation\n",
        "  return''.join(random.choice(characters) for _ in range(length))\n",
        "\n",
        "generate_password()"
      ],
      "metadata": {
        "colab": {
          "base_uri": "https://localhost:8080/",
          "height": 35
        },
        "id": "v4zuf39dyT6O",
        "outputId": "12b0e522-8303-409b-c13b-37b8605ae0d8"
      },
      "execution_count": null,
      "outputs": [
        {
          "output_type": "execute_result",
          "data": {
            "text/plain": [
              "'{tVD1Q.'"
            ],
            "application/vnd.google.colaboratory.intrinsic+json": {
              "type": "string"
            }
          },
          "metadata": {},
          "execution_count": 24
        }
      ]
    },
    {
      "cell_type": "markdown",
      "source": [
        "***Q9.8***"
      ],
      "metadata": {
        "id": "oDY2p8FY5PXI"
      }
    },
    {
      "cell_type": "code",
      "source": [
        "def pick_random_card():\n",
        "  suits=['Hearts','Diamonds','Clubs','Spades']\n",
        "  ranks=['2','3','4','5','6','7','8','9','10','J','Q','K','A']\n",
        "  return random.choice(suits),random.choice(ranks)\n",
        "pick_random_card()"
      ],
      "metadata": {
        "colab": {
          "base_uri": "https://localhost:8080/"
        },
        "id": "Uhp6czvU5Ny7",
        "outputId": "10f8136b-0723-479e-c52d-fbf22a40e398"
      },
      "execution_count": null,
      "outputs": [
        {
          "output_type": "execute_result",
          "data": {
            "text/plain": [
              "('Clubs', '8')"
            ]
          },
          "metadata": {},
          "execution_count": 26
        }
      ]
    },
    {
      "cell_type": "markdown",
      "source": [
        "***Q10.1***"
      ],
      "metadata": {
        "id": "K0rooMps_rTr"
      }
    },
    {
      "cell_type": "code",
      "source": [
        "import sys\n",
        "\n",
        "def add_numbers_cli():\n",
        "  if len(sys.argv)!=3:\n",
        "    return \"PLease provide two numbers\"\n",
        "  try:\n",
        "    num1=float(sys.argv[1])\n",
        "    num2=float(sys.argv[2])\n",
        "    return num1+num2\n",
        "  except ValueError:\n",
        "    return \"Invalid input.Please provide valid numbers\"\n",
        "\n",
        "add_numbers_cli()"
      ],
      "metadata": {
        "colab": {
          "base_uri": "https://localhost:8080/",
          "height": 35
        },
        "id": "RocTUq82_ruB",
        "outputId": "f562c816-9c5b-4198-e46e-e8db312b2b65"
      },
      "execution_count": null,
      "outputs": [
        {
          "output_type": "execute_result",
          "data": {
            "text/plain": [
              "'Invalid input.Please provide valid numbers'"
            ],
            "application/vnd.google.colaboratory.intrinsic+json": {
              "type": "string"
            }
          },
          "metadata": {},
          "execution_count": 35
        }
      ]
    },
    {
      "cell_type": "markdown",
      "source": [
        "***Q10.2***"
      ],
      "metadata": {
        "id": "wNKZW0zx_sBh"
      }
    },
    {
      "cell_type": "code",
      "source": [
        "def string_length_cli():\n",
        "  if len(sys.argv)!=2:\n",
        "    return \"Please provide a string\"\n",
        "  return len(sys.argv[1])\n",
        "\n",
        "string_length_cli()"
      ],
      "metadata": {
        "colab": {
          "base_uri": "https://localhost:8080/",
          "height": 35
        },
        "id": "84LgxhlQ_saz",
        "outputId": "a23ca473-861f-4be8-9bcc-343b90521ddf"
      },
      "execution_count": null,
      "outputs": [
        {
          "output_type": "execute_result",
          "data": {
            "text/plain": [
              "'Please provide a string'"
            ],
            "application/vnd.google.colaboratory.intrinsic+json": {
              "type": "string"
            }
          },
          "metadata": {},
          "execution_count": 36
        }
      ]
    },
    {
      "cell_type": "markdown",
      "source": [
        "***11.1***"
      ],
      "metadata": {
        "id": "o4uWEoF48gbm"
      }
    },
    {
      "cell_type": "code",
      "source": [
        "import math\n",
        "from datetime import datetime\n",
        "import os\n",
        "\n",
        "def calculate_sqrt(number):\n",
        "  return math.sqrt(number)\n",
        "\n",
        "calculate_sqrt(49)\n"
      ],
      "metadata": {
        "colab": {
          "base_uri": "https://localhost:8080/"
        },
        "id": "lt_PfLpM8iqs",
        "outputId": "ebf992e3-fb94-4ed3-a372-74fb54b63232"
      },
      "execution_count": null,
      "outputs": [
        {
          "output_type": "execute_result",
          "data": {
            "text/plain": [
              "7.0"
            ]
          },
          "metadata": {},
          "execution_count": 27
        }
      ]
    },
    {
      "cell_type": "markdown",
      "source": [
        "***Q11.2***"
      ],
      "metadata": {
        "id": "sJ9I4wwC-4hL"
      }
    },
    {
      "cell_type": "code",
      "source": [
        "import pytz\n",
        "def current_datetime():\n",
        "\n",
        "  tz = pytz.timezone('Asia/Kolkata')\n",
        "  now=datetime.now(tz)\n",
        "  return now.strftime(\"%d-%m-%Y %H:%M:%S\")\n",
        "current_datetime()"
      ],
      "metadata": {
        "colab": {
          "base_uri": "https://localhost:8080/",
          "height": 35
        },
        "id": "Wc9XA2H79hIN",
        "outputId": "81baf30d-7133-4771-b322-b1da55384a28"
      },
      "execution_count": null,
      "outputs": [
        {
          "output_type": "execute_result",
          "data": {
            "text/plain": [
              "'13-01-2025 10:15:08'"
            ],
            "application/vnd.google.colaboratory.intrinsic+json": {
              "type": "string"
            }
          },
          "metadata": {},
          "execution_count": 31
        }
      ]
    },
    {
      "cell_type": "markdown",
      "source": [
        "***Q11.3***"
      ],
      "metadata": {
        "id": "UYAvoLg3-6YQ"
      }
    },
    {
      "cell_type": "code",
      "source": [
        "def list_files():\n",
        "  return os.listdir('.')\n",
        "list_files()"
      ],
      "metadata": {
        "colab": {
          "base_uri": "https://localhost:8080/"
        },
        "id": "SvVIZuWX-3eV",
        "outputId": "982d1781-898c-4c38-8825-84b10b27582e"
      },
      "execution_count": null,
      "outputs": [
        {
          "output_type": "execute_result",
          "data": {
            "text/plain": [
              "['.config', 'sample_data']"
            ]
          },
          "metadata": {},
          "execution_count": 32
        }
      ]
    }
  ]
}